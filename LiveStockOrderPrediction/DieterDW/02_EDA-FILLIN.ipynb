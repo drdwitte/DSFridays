{
 "cells": [
  {
   "cell_type": "code",
   "execution_count": 1,
   "metadata": {
    "collapsed": true
   },
   "outputs": [],
   "source": [
    "#vector/matrix library\n",
    "import numpy as np\n",
    "\n",
    "#data frame library (similar to R)\n",
    "import pandas as pd\n",
    "\n",
    "#visualization library\n",
    "%matplotlib inline\n",
    "import matplotlib.pyplot as plt\n",
    "plt.style.use('ggplot')\n",
    "\n",
    "#regular expression library for data cleasning\n",
    "import re"
   ]
  },
  {
   "cell_type": "code",
   "execution_count": null,
   "metadata": {},
   "outputs": [],
   "source": [
    "path_full_dataset = <FILL_IN>L\n",
    "df_full = pd.read_csv(path_full_dataset, sep='\\t')\n",
    "\n",
    "#check the data types for the columns and cast if necessary (type information gets lost during serialization)\n",
    "<FILL_IN>\n",
    "\n",
    "print(df_full.dtypes)"
   ]
  },
  {
   "cell_type": "markdown",
   "metadata": {},
   "source": [
    "# Map of Belgian Regions\n",
    "\n",
    "![Image of Yaktocat](https://upload.wikimedia.org/wikipedia/commons/9/96/2_digit_postcode_belgique.png)"
   ]
  },
  {
   "cell_type": "markdown",
   "metadata": {},
   "source": [
    "# Useful table on the codes that can be used for time series aggregation (resample)\n",
    "\n",
    "```\n",
    "B       business day frequency\n",
    "C       custom business day frequency (experimental)\n",
    "D       calendar day frequency\n",
    "W       weekly frequency\n",
    "M       month end frequency\n",
    "SM      semi-month end frequency (15th and end of month)\n",
    "BM      business month end frequency\n",
    "CBM     custom business month end frequency\n",
    "MS      month start frequency\n",
    "SMS     semi-month start frequency (1st and 15th)\n",
    "BMS     business month start frequency\n",
    "CBMS    custom business month start frequency\n",
    "Q       quarter end frequency\n",
    "BQ      business quarter endfrequency\n",
    "QS      quarter start frequency\n",
    "BQS     business quarter start frequency\n",
    "A       year end frequency\n",
    "BA      business year end frequency\n",
    "AS      year start frequency\n",
    "BAS     business year start frequency\n",
    "BH      business hour frequency\n",
    "H       hourly frequency\n",
    "T       minutely frequency\n",
    "S       secondly frequency\n",
    "L       milliseonds\n",
    "U       microseconds\n",
    "N       nanoseconds\n",
    "```"
   ]
  },
  {
   "cell_type": "markdown",
   "metadata": {},
   "source": [
    "# EDA: Visualize the dataset to uncover patterns which you can use in your predictive models later on.\n",
    "\n",
    "**HINT:** Have a look at pandas pivot_table functionality. This makes many of the aggregations need to create the visualizations a lot easier!\n",
    "\n",
    "## 1. Global Trends in number of orders\n",
    "\n",
    "* Plot the number of orders per day, per week, per month and per year\n",
    "* Plot the number of orders per weekday (i.e. orders on mondays)\n",
    "* Plots the number of order per hour of the week (monday 0 AM = 0 => sunday 23:59)\n",
    "\n",
    "\n",
    "**HINT:** index your dataframe with a datetime index and use pandas resample functionality (= group on time windows)"
   ]
  },
  {
   "cell_type": "code",
   "execution_count": null,
   "metadata": {
    "collapsed": true
   },
   "outputs": [],
   "source": [
    "#per day\n",
    "fig, ax = plt.subplots(1,1, figsize=(20,5))\n"
   ]
  },
  {
   "cell_type": "code",
   "execution_count": null,
   "metadata": {
    "collapsed": true
   },
   "outputs": [],
   "source": [
    "#per week\n",
    "fig, ax = plt.subplots(1,1, figsize=(20,5))\n"
   ]
  },
  {
   "cell_type": "code",
   "execution_count": null,
   "metadata": {
    "collapsed": true
   },
   "outputs": [],
   "source": [
    "#per month\n",
    "fig, ax = plt.subplots(1,1, figsize=(20,5))\n"
   ]
  },
  {
   "cell_type": "code",
   "execution_count": null,
   "metadata": {
    "collapsed": true
   },
   "outputs": [],
   "source": [
    "#per year\n",
    "fig, ax = plt.subplots(1,1, figsize=(20,5))\n"
   ]
  },
  {
   "cell_type": "code",
   "execution_count": null,
   "metadata": {
    "collapsed": true
   },
   "outputs": [],
   "source": [
    "#per weekday\n",
    "fig, ax = plt.subplots(1,1, figsize=(20,5))\n"
   ]
  },
  {
   "cell_type": "code",
   "execution_count": null,
   "metadata": {
    "collapsed": true
   },
   "outputs": [],
   "source": [
    "#per hour offset\n",
    "fig, ax = plt.subplots(1,1, figsize=(20,5))\n"
   ]
  },
  {
   "cell_type": "markdown",
   "metadata": {},
   "source": [
    "## 2. Modify the previous visualizations to take into account the weight ordered, does anything change?"
   ]
  },
  {
   "cell_type": "code",
   "execution_count": null,
   "metadata": {},
   "outputs": [],
   "source": []
  },
  {
   "cell_type": "markdown",
   "metadata": {},
   "source": [
    "## 3.  Study the differences in ordering behaviour for the different animal groups\n",
    "\n",
    "* For the entire dataset: make a pie chart with the distribution of weight ordered\n",
    "* What is the weight ordered per week per animal type (multiple line plots, one per animal)\n",
    "* What is the order patterns for the different animal per hour of week? (line charts for time series)\n",
    "* What is the weight ordered per weekday and per animal (use a stacked bar chart)"
   ]
  },
  {
   "cell_type": "code",
   "execution_count": null,
   "metadata": {
    "collapsed": true
   },
   "outputs": [],
   "source": []
  },
  {
   "cell_type": "code",
   "execution_count": null,
   "metadata": {
    "collapsed": true
   },
   "outputs": [],
   "source": []
  },
  {
   "cell_type": "code",
   "execution_count": null,
   "metadata": {
    "collapsed": true
   },
   "outputs": [],
   "source": []
  },
  {
   "cell_type": "code",
   "execution_count": null,
   "metadata": {
    "collapsed": true
   },
   "outputs": [],
   "source": []
  },
  {
   "cell_type": "markdown",
   "metadata": {},
   "source": [
    "## 4. Trends per region (province / region)\n",
    "\n",
    "* Create a stack bar chart: x-axis is the province, the bars contain the ordered weight per animal type\n",
    "* Same chart but zoom into the region level\n"
   ]
  },
  {
   "cell_type": "code",
   "execution_count": null,
   "metadata": {},
   "outputs": [],
   "source": []
  },
  {
   "cell_type": "markdown",
   "metadata": {},
   "source": [
    "## 5. Information in the time series itself\n",
    "\n",
    "Look up the concept of autocorrelation of a time signal. For the different animal types are their certain lags in the ordering with high correlations? Do farmers order randomly or do they follow a strict predictable pattern?\n",
    "\n",
    "* Play with this, does the autocorrelation become more apparent if we filter for specific regions, is it different per animal type,..."
   ]
  },
  {
   "cell_type": "code",
   "execution_count": null,
   "metadata": {
    "scrolled": false
   },
   "outputs": [],
   "source": [
    "from pandas.plotting import autocorrelation_plot\n",
    "\n",
    "fig, ax = plt.subplots(1,1, figsize=(20,5))\n",
    "\n",
    "autocorrelation_plot(<FILL_IN SERIES>, ax=ax)\n",
    "\n",
    "\n"
   ]
  },
  {
   "cell_type": "markdown",
   "metadata": {},
   "source": [
    "# OPTIONAL: Some extra ideas you might want to explore\n",
    "\n",
    "## 6. Study the activity of customers \n",
    "\n",
    "* When are they created?\n",
    "* Are they recurrent?\n",
    "* How does the size of the active customers group vary over time?"
   ]
  },
  {
   "cell_type": "code",
   "execution_count": null,
   "metadata": {
    "collapsed": true
   },
   "outputs": [],
   "source": []
  },
  {
   "cell_type": "markdown",
   "metadata": {},
   "source": [
    "## 7. Studied the quantities ordered\n",
    "\n",
    "* What are the typical quantities a farmer orders, is this stable, does this impact the time for the next order?"
   ]
  },
  {
   "cell_type": "code",
   "execution_count": null,
   "metadata": {
    "collapsed": true
   },
   "outputs": [],
   "source": []
  },
  {
   "cell_type": "markdown",
   "metadata": {},
   "source": [
    "## 8. You are obviously encourage to explore your own ideas and be creative. \n",
    "\n",
    "* Note that many of the visualizations created here might come in useful when you have to pitch about the ideas behind your models. Remember: "
   ]
  },
  {
   "cell_type": "code",
   "execution_count": null,
   "metadata": {
    "collapsed": true
   },
   "outputs": [],
   "source": []
  },
  {
   "cell_type": "markdown",
   "metadata": {
    "collapsed": true
   },
   "source": [
    "# \"Your greatest insight is only as good as your ability to communicate it.\"  "
   ]
  }
 ],
 "metadata": {
  "kernelspec": {
   "display_name": "Python 3",
   "language": "python",
   "name": "python3"
  },
  "language_info": {
   "codemirror_mode": {
    "name": "ipython",
    "version": 3
   },
   "file_extension": ".py",
   "mimetype": "text/x-python",
   "name": "python",
   "nbconvert_exporter": "python",
   "pygments_lexer": "ipython3",
   "version": "3.6.3"
  }
 },
 "nbformat": 4,
 "nbformat_minor": 2
}
