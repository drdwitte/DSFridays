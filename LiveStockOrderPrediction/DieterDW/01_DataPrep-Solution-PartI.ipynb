{
 "cells": [
  {
   "cell_type": "code",
   "execution_count": 1,
   "metadata": {},
   "outputs": [],
   "source": [
    "#vector/matrix library\n",
    "import numpy as np\n",
    "\n",
    "#data frame library (similar to R)\n",
    "import pandas as pd\n",
    "\n",
    "#visualization library\n",
    "%matplotlib inline\n",
    "import matplotlib.pyplot as plt\n",
    "plt.style.use('ggplot')\n",
    "\n",
    "#regular expression library for data cleasning\n",
    "import re"
   ]
  },
  {
   "cell_type": "code",
   "execution_count": 29,
   "metadata": {},
   "outputs": [],
   "source": [
    "#paths to csv files\n",
    "\n",
    "path_customers = \"experimenting/raw/klantenV2.csv\""
   ]
  },
  {
   "cell_type": "markdown",
   "metadata": {},
   "source": [
    "# 1. Customers\n",
    "\n",
    "#### 1. Create a dataframe of the customer data\n",
    "\n",
    "Fields in the Data Warehouse: (missing in csv)\n",
    "* customer_id\n",
    "* zipcode\n",
    "* country\n",
    "* salesrep_id\n",
    "* closing_day\n",
    "* creation_date\n",
    "\n",
    "HINT: The CSV file dumps use UTF-16 character encoding, ignoring this will make the file unreadable"
   ]
  },
  {
   "cell_type": "code",
   "execution_count": 30,
   "metadata": {},
   "outputs": [
    {
     "data": {
      "text/html": [
       "<div>\n",
       "<style scoped>\n",
       "    .dataframe tbody tr th:only-of-type {\n",
       "        vertical-align: middle;\n",
       "    }\n",
       "\n",
       "    .dataframe tbody tr th {\n",
       "        vertical-align: top;\n",
       "    }\n",
       "\n",
       "    .dataframe thead th {\n",
       "        text-align: right;\n",
       "    }\n",
       "</style>\n",
       "<table border=\"1\" class=\"dataframe\">\n",
       "  <thead>\n",
       "    <tr style=\"text-align: right;\">\n",
       "      <th></th>\n",
       "      <th>customer_id</th>\n",
       "      <th>zipcode</th>\n",
       "      <th>country</th>\n",
       "      <th>salesrep_id</th>\n",
       "      <th>closing_day</th>\n",
       "      <th>creation_date</th>\n",
       "    </tr>\n",
       "  </thead>\n",
       "  <tbody>\n",
       "    <tr>\n",
       "      <th>0</th>\n",
       "      <td>74236</td>\n",
       "      <td>8792</td>\n",
       "      <td>BE</td>\n",
       "      <td>128.0</td>\n",
       "      <td>1111111.0</td>\n",
       "      <td>7/05/2009 1:09:21</td>\n",
       "    </tr>\n",
       "    <tr>\n",
       "      <th>1</th>\n",
       "      <td>74246</td>\n",
       "      <td>8750</td>\n",
       "      <td>BE</td>\n",
       "      <td>44.0</td>\n",
       "      <td>1111111.0</td>\n",
       "      <td>7/05/2009 1:09:21</td>\n",
       "    </tr>\n",
       "    <tr>\n",
       "      <th>2</th>\n",
       "      <td>74247</td>\n",
       "      <td>8750</td>\n",
       "      <td>BE</td>\n",
       "      <td>44.0</td>\n",
       "      <td>1111111.0</td>\n",
       "      <td>7/05/2009 1:09:22</td>\n",
       "    </tr>\n",
       "    <tr>\n",
       "      <th>3</th>\n",
       "      <td>74249</td>\n",
       "      <td>8750</td>\n",
       "      <td>BE</td>\n",
       "      <td>63.0</td>\n",
       "      <td>1111111.0</td>\n",
       "      <td>7/05/2009 1:09:22</td>\n",
       "    </tr>\n",
       "    <tr>\n",
       "      <th>4</th>\n",
       "      <td>74263</td>\n",
       "      <td>8750</td>\n",
       "      <td>BE</td>\n",
       "      <td>44.0</td>\n",
       "      <td>1111111.0</td>\n",
       "      <td>7/05/2009 1:09:22</td>\n",
       "    </tr>\n",
       "  </tbody>\n",
       "</table>\n",
       "</div>"
      ],
      "text/plain": [
       "   customer_id zipcode country  salesrep_id  closing_day      creation_date\n",
       "0        74236    8792      BE        128.0    1111111.0  7/05/2009 1:09:21\n",
       "1        74246    8750      BE         44.0    1111111.0  7/05/2009 1:09:21\n",
       "2        74247    8750      BE         44.0    1111111.0  7/05/2009 1:09:22\n",
       "3        74249    8750      BE         63.0    1111111.0  7/05/2009 1:09:22\n",
       "4        74263    8750      BE         44.0    1111111.0  7/05/2009 1:09:22"
      ]
     },
     "execution_count": 30,
     "metadata": {},
     "output_type": "execute_result"
    }
   ],
   "source": [
    "colnames = ['customer_id', 'zipcode', 'country', 'salesrep_id', 'closing_day', 'creation_date']\n",
    "\n",
    "df_customers = pd.read_csv(path_customers, encoding='utf-16', header=None, names=colnames)\n",
    "df_customers.head(n=5)"
   ]
  },
  {
   "cell_type": "markdown",
   "metadata": {},
   "source": [
    "#### 2. Dataset characteristics\n",
    "\n",
    "1. How many records and how many features are in train and test sets?\n",
    "2. Are there duplicates in the data (customer_id), merge them appropriately!\n",
    "3. Missing data: are there NaN values in the data. \n",
    "4. How many different countries are in the dataset?\n",
    "5. Zipcodes: data quality is not very good: Clean the data using regular expressions!\n",
    "6. The dataframe is only fully cleaned once the datatypes have been set: zipcode is an integer, creation_date is a datetime object => cast them as a final step\n",
    "\n",
    "\n",
    "- HINT1: pd.isnull()\n",
    "- HINT2: .drop() function, keep in mind that DFs are immutable (new DF created), avoid using inplace=True as it is not idempotent.\n",
    "- HINT3: pandas has a duplicated() function\n",
    "- HINT4: describe() function gives you a dataframe summary\n",
    "\n"
   ]
  },
  {
   "cell_type": "code",
   "execution_count": 35,
   "metadata": {},
   "outputs": [
    {
     "name": "stdout",
     "output_type": "stream",
     "text": [
      "23117 customers\n"
     ]
    }
   ],
   "source": [
    "#1\n",
    "print(str(df_customers.shape[0]) + \" customers\")"
   ]
  },
  {
   "cell_type": "code",
   "execution_count": 36,
   "metadata": {},
   "outputs": [
    {
     "data": {
      "text/html": [
       "<div>\n",
       "<style scoped>\n",
       "    .dataframe tbody tr th:only-of-type {\n",
       "        vertical-align: middle;\n",
       "    }\n",
       "\n",
       "    .dataframe tbody tr th {\n",
       "        vertical-align: top;\n",
       "    }\n",
       "\n",
       "    .dataframe thead th {\n",
       "        text-align: right;\n",
       "    }\n",
       "</style>\n",
       "<table border=\"1\" class=\"dataframe\">\n",
       "  <thead>\n",
       "    <tr style=\"text-align: right;\">\n",
       "      <th></th>\n",
       "      <th>customer_id</th>\n",
       "      <th>salesrep_id</th>\n",
       "      <th>closing_day</th>\n",
       "    </tr>\n",
       "  </thead>\n",
       "  <tbody>\n",
       "    <tr>\n",
       "      <th>count</th>\n",
       "      <td>23117.000000</td>\n",
       "      <td>16640.000000</td>\n",
       "      <td>23108.0</td>\n",
       "    </tr>\n",
       "    <tr>\n",
       "      <th>mean</th>\n",
       "      <td>694030.095298</td>\n",
       "      <td>212.416106</td>\n",
       "      <td>1111111.0</td>\n",
       "    </tr>\n",
       "    <tr>\n",
       "      <th>std</th>\n",
       "      <td>306179.901771</td>\n",
       "      <td>186.899117</td>\n",
       "      <td>0.0</td>\n",
       "    </tr>\n",
       "    <tr>\n",
       "      <th>min</th>\n",
       "      <td>0.000000</td>\n",
       "      <td>2.000000</td>\n",
       "      <td>1111111.0</td>\n",
       "    </tr>\n",
       "    <tr>\n",
       "      <th>25%</th>\n",
       "      <td>500673.000000</td>\n",
       "      <td>61.000000</td>\n",
       "      <td>1111111.0</td>\n",
       "    </tr>\n",
       "    <tr>\n",
       "      <th>50%</th>\n",
       "      <td>856592.000000</td>\n",
       "      <td>222.000000</td>\n",
       "      <td>1111111.0</td>\n",
       "    </tr>\n",
       "    <tr>\n",
       "      <th>75%</th>\n",
       "      <td>901376.000000</td>\n",
       "      <td>290.000000</td>\n",
       "      <td>1111111.0</td>\n",
       "    </tr>\n",
       "    <tr>\n",
       "      <th>max</th>\n",
       "      <td>999998.000000</td>\n",
       "      <td>999.000000</td>\n",
       "      <td>1111111.0</td>\n",
       "    </tr>\n",
       "  </tbody>\n",
       "</table>\n",
       "</div>"
      ],
      "text/plain": [
       "         customer_id   salesrep_id  closing_day\n",
       "count   23117.000000  16640.000000      23108.0\n",
       "mean   694030.095298    212.416106    1111111.0\n",
       "std    306179.901771    186.899117          0.0\n",
       "min         0.000000      2.000000    1111111.0\n",
       "25%    500673.000000     61.000000    1111111.0\n",
       "50%    856592.000000    222.000000    1111111.0\n",
       "75%    901376.000000    290.000000    1111111.0\n",
       "max    999998.000000    999.000000    1111111.0"
      ]
     },
     "execution_count": 36,
     "metadata": {},
     "output_type": "execute_result"
    }
   ],
   "source": [
    "df_customers.describe()"
   ]
  },
  {
   "cell_type": "code",
   "execution_count": 38,
   "metadata": {},
   "outputs": [
    {
     "data": {
      "text/plain": [
       "(23117, 6)"
      ]
     },
     "execution_count": 38,
     "metadata": {},
     "output_type": "execute_result"
    }
   ],
   "source": []
  },
  {
   "cell_type": "code",
   "execution_count": 43,
   "metadata": {},
   "outputs": [
    {
     "name": "stdout",
     "output_type": "stream",
     "text": [
      "2\n"
     ]
    }
   ],
   "source": [
    "#2\n",
    "#how many duplicates?\n",
    "print(df_customers\n",
    "          .duplicated(subset=['customer_id'])\n",
    "          .sum()\n",
    "     )"
   ]
  },
  {
   "cell_type": "code",
   "execution_count": 45,
   "metadata": {},
   "outputs": [
    {
     "data": {
      "text/html": [
       "<div>\n",
       "<style scoped>\n",
       "    .dataframe tbody tr th:only-of-type {\n",
       "        vertical-align: middle;\n",
       "    }\n",
       "\n",
       "    .dataframe tbody tr th {\n",
       "        vertical-align: top;\n",
       "    }\n",
       "\n",
       "    .dataframe thead th {\n",
       "        text-align: right;\n",
       "    }\n",
       "</style>\n",
       "<table border=\"1\" class=\"dataframe\">\n",
       "  <thead>\n",
       "    <tr style=\"text-align: right;\">\n",
       "      <th></th>\n",
       "      <th>customer_id</th>\n",
       "      <th>zipcode</th>\n",
       "      <th>country</th>\n",
       "      <th>salesrep_id</th>\n",
       "      <th>closing_day</th>\n",
       "      <th>creation_date</th>\n",
       "    </tr>\n",
       "  </thead>\n",
       "  <tbody>\n",
       "    <tr>\n",
       "      <th>303</th>\n",
       "      <td>840001</td>\n",
       "      <td>3012</td>\n",
       "      <td>BE</td>\n",
       "      <td>14.0</td>\n",
       "      <td>1111111.0</td>\n",
       "      <td>5/12/2008 16:05:27</td>\n",
       "    </tr>\n",
       "    <tr>\n",
       "      <th>2578</th>\n",
       "      <td>627118</td>\n",
       "      <td>3000</td>\n",
       "      <td>BE</td>\n",
       "      <td>14.0</td>\n",
       "      <td>1111111.0</td>\n",
       "      <td>7/05/2009 1:20:50</td>\n",
       "    </tr>\n",
       "    <tr>\n",
       "      <th>15913</th>\n",
       "      <td>840001</td>\n",
       "      <td>3000</td>\n",
       "      <td>BE</td>\n",
       "      <td>NaN</td>\n",
       "      <td>NaN</td>\n",
       "      <td>4/02/2010 15:53:48</td>\n",
       "    </tr>\n",
       "    <tr>\n",
       "      <th>16762</th>\n",
       "      <td>627118</td>\n",
       "      <td>3000</td>\n",
       "      <td>BE</td>\n",
       "      <td>NaN</td>\n",
       "      <td>NaN</td>\n",
       "      <td>17/02/2010 16:12:27</td>\n",
       "    </tr>\n",
       "  </tbody>\n",
       "</table>\n",
       "</div>"
      ],
      "text/plain": [
       "       customer_id zipcode country  salesrep_id  closing_day  \\\n",
       "303         840001    3012      BE         14.0    1111111.0   \n",
       "2578        627118    3000      BE         14.0    1111111.0   \n",
       "15913       840001    3000      BE          NaN          NaN   \n",
       "16762       627118    3000      BE          NaN          NaN   \n",
       "\n",
       "             creation_date  \n",
       "303     5/12/2008 16:05:27  \n",
       "2578     7/05/2009 1:20:50  \n",
       "15913   4/02/2010 15:53:48  \n",
       "16762  17/02/2010 16:12:27  "
      ]
     },
     "execution_count": 45,
     "metadata": {},
     "output_type": "execute_result"
    }
   ],
   "source": [
    "mask = df_customers.duplicated(subset=['customer_id'], keep=False)\n",
    "df_customers[mask]"
   ]
  },
  {
   "cell_type": "code",
   "execution_count": 46,
   "metadata": {},
   "outputs": [],
   "source": [
    "df_customers2 = df_customers.drop([16762, 15913], axis=0)"
   ]
  },
  {
   "cell_type": "code",
   "execution_count": null,
   "metadata": {},
   "outputs": [],
   "source": []
  },
  {
   "cell_type": "code",
   "execution_count": 47,
   "metadata": {},
   "outputs": [
    {
     "name": "stdout",
     "output_type": "stream",
     "text": [
      "(6477, 6)\n"
     ]
    },
    {
     "data": {
      "text/html": [
       "<div>\n",
       "<style scoped>\n",
       "    .dataframe tbody tr th:only-of-type {\n",
       "        vertical-align: middle;\n",
       "    }\n",
       "\n",
       "    .dataframe tbody tr th {\n",
       "        vertical-align: top;\n",
       "    }\n",
       "\n",
       "    .dataframe thead th {\n",
       "        text-align: right;\n",
       "    }\n",
       "</style>\n",
       "<table border=\"1\" class=\"dataframe\">\n",
       "  <thead>\n",
       "    <tr style=\"text-align: right;\">\n",
       "      <th></th>\n",
       "      <th>customer_id</th>\n",
       "      <th>zipcode</th>\n",
       "      <th>country</th>\n",
       "      <th>salesrep_id</th>\n",
       "      <th>closing_day</th>\n",
       "      <th>creation_date</th>\n",
       "    </tr>\n",
       "  </thead>\n",
       "  <tbody>\n",
       "    <tr>\n",
       "      <th>16</th>\n",
       "      <td>144286</td>\n",
       "      <td>9770</td>\n",
       "      <td>BE</td>\n",
       "      <td>NaN</td>\n",
       "      <td>1111111.0</td>\n",
       "      <td>7/05/2009 1:10:31</td>\n",
       "    </tr>\n",
       "    <tr>\n",
       "      <th>19</th>\n",
       "      <td>144294</td>\n",
       "      <td>9770</td>\n",
       "      <td>BE</td>\n",
       "      <td>NaN</td>\n",
       "      <td>1111111.0</td>\n",
       "      <td>7/05/2009 1:10:31</td>\n",
       "    </tr>\n",
       "    <tr>\n",
       "      <th>33</th>\n",
       "      <td>164347</td>\n",
       "      <td>9520</td>\n",
       "      <td>BE</td>\n",
       "      <td>NaN</td>\n",
       "      <td>1111111.0</td>\n",
       "      <td>7/05/2009 1:10:53</td>\n",
       "    </tr>\n",
       "    <tr>\n",
       "      <th>70</th>\n",
       "      <td>144313</td>\n",
       "      <td>9680</td>\n",
       "      <td>BE</td>\n",
       "      <td>NaN</td>\n",
       "      <td>1111111.0</td>\n",
       "      <td>7/05/2009 1:10:33</td>\n",
       "    </tr>\n",
       "    <tr>\n",
       "      <th>71</th>\n",
       "      <td>144314</td>\n",
       "      <td>9690</td>\n",
       "      <td>BE</td>\n",
       "      <td>NaN</td>\n",
       "      <td>1111111.0</td>\n",
       "      <td>7/05/2009 1:10:33</td>\n",
       "    </tr>\n",
       "    <tr>\n",
       "      <th>72</th>\n",
       "      <td>144316</td>\n",
       "      <td>9690</td>\n",
       "      <td>BE</td>\n",
       "      <td>NaN</td>\n",
       "      <td>1111111.0</td>\n",
       "      <td>7/05/2009 1:10:34</td>\n",
       "    </tr>\n",
       "    <tr>\n",
       "      <th>85</th>\n",
       "      <td>164441</td>\n",
       "      <td>9620</td>\n",
       "      <td>BE</td>\n",
       "      <td>NaN</td>\n",
       "      <td>1111111.0</td>\n",
       "      <td>7/05/2009 1:10:56</td>\n",
       "    </tr>\n",
       "    <tr>\n",
       "      <th>87</th>\n",
       "      <td>164452</td>\n",
       "      <td>9620</td>\n",
       "      <td>BE</td>\n",
       "      <td>NaN</td>\n",
       "      <td>1111111.0</td>\n",
       "      <td>7/05/2009 1:10:57</td>\n",
       "    </tr>\n",
       "    <tr>\n",
       "      <th>181</th>\n",
       "      <td>144551</td>\n",
       "      <td>9790</td>\n",
       "      <td>BE</td>\n",
       "      <td>NaN</td>\n",
       "      <td>1111111.0</td>\n",
       "      <td>7/05/2009 1:10:41</td>\n",
       "    </tr>\n",
       "    <tr>\n",
       "      <th>182</th>\n",
       "      <td>144556</td>\n",
       "      <td>9790</td>\n",
       "      <td>BE</td>\n",
       "      <td>NaN</td>\n",
       "      <td>1111111.0</td>\n",
       "      <td>7/05/2009 1:10:41</td>\n",
       "    </tr>\n",
       "  </tbody>\n",
       "</table>\n",
       "</div>"
      ],
      "text/plain": [
       "     customer_id zipcode country  salesrep_id  closing_day      creation_date\n",
       "16        144286    9770      BE          NaN    1111111.0  7/05/2009 1:10:31\n",
       "19        144294    9770      BE          NaN    1111111.0  7/05/2009 1:10:31\n",
       "33        164347    9520      BE          NaN    1111111.0  7/05/2009 1:10:53\n",
       "70        144313    9680      BE          NaN    1111111.0  7/05/2009 1:10:33\n",
       "71        144314    9690      BE          NaN    1111111.0  7/05/2009 1:10:33\n",
       "72        144316    9690      BE          NaN    1111111.0  7/05/2009 1:10:34\n",
       "85        164441    9620      BE          NaN    1111111.0  7/05/2009 1:10:56\n",
       "87        164452    9620      BE          NaN    1111111.0  7/05/2009 1:10:57\n",
       "181       144551    9790      BE          NaN    1111111.0  7/05/2009 1:10:41\n",
       "182       144556    9790      BE          NaN    1111111.0  7/05/2009 1:10:41"
      ]
     },
     "execution_count": 47,
     "metadata": {},
     "output_type": "execute_result"
    }
   ],
   "source": [
    "#3 Missing Data\n",
    "\n",
    "mask = df_customers2.isnull().any(axis=1)\n",
    "print(df_customers2[mask].shape)\n",
    "df_customers2[mask].head(n=10)"
   ]
  },
  {
   "cell_type": "code",
   "execution_count": 48,
   "metadata": {},
   "outputs": [
    {
     "name": "stdout",
     "output_type": "stream",
     "text": [
      "Sales rep doesn't seem valuable to use as a feature, so let's get rid of it as it is often missing!\n"
     ]
    }
   ],
   "source": [
    "print(\"Sales rep doesn't seem valuable to use as a feature, so let's get rid of it as it is often missing!\")\n",
    "df_customers3 = df_customers2.drop('salesrep_id', axis=1)"
   ]
  },
  {
   "cell_type": "code",
   "execution_count": 49,
   "metadata": {},
   "outputs": [
    {
     "name": "stdout",
     "output_type": "stream",
     "text": [
      "(10, 5)\n"
     ]
    },
    {
     "data": {
      "text/html": [
       "<div>\n",
       "<style scoped>\n",
       "    .dataframe tbody tr th:only-of-type {\n",
       "        vertical-align: middle;\n",
       "    }\n",
       "\n",
       "    .dataframe tbody tr th {\n",
       "        vertical-align: top;\n",
       "    }\n",
       "\n",
       "    .dataframe thead th {\n",
       "        text-align: right;\n",
       "    }\n",
       "</style>\n",
       "<table border=\"1\" class=\"dataframe\">\n",
       "  <thead>\n",
       "    <tr style=\"text-align: right;\">\n",
       "      <th></th>\n",
       "      <th>customer_id</th>\n",
       "      <th>zipcode</th>\n",
       "      <th>country</th>\n",
       "      <th>closing_day</th>\n",
       "      <th>creation_date</th>\n",
       "    </tr>\n",
       "  </thead>\n",
       "  <tbody>\n",
       "    <tr>\n",
       "      <th>15034</th>\n",
       "      <td>410</td>\n",
       "      <td>NaN</td>\n",
       "      <td>BE</td>\n",
       "      <td>1111111.0</td>\n",
       "      <td>27/08/2010 13:26:31</td>\n",
       "    </tr>\n",
       "    <tr>\n",
       "      <th>15035</th>\n",
       "      <td>401</td>\n",
       "      <td>NaN</td>\n",
       "      <td>BE</td>\n",
       "      <td>1111111.0</td>\n",
       "      <td>27/08/2010 13:23:09</td>\n",
       "    </tr>\n",
       "    <tr>\n",
       "      <th>16020</th>\n",
       "      <td>409</td>\n",
       "      <td>NaN</td>\n",
       "      <td>BE</td>\n",
       "      <td>1111111.0</td>\n",
       "      <td>27/08/2010 13:25:58</td>\n",
       "    </tr>\n",
       "    <tr>\n",
       "      <th>20789</th>\n",
       "      <td>429</td>\n",
       "      <td>5300</td>\n",
       "      <td>BE</td>\n",
       "      <td>NaN</td>\n",
       "      <td>9/11/2017 10:35:15</td>\n",
       "    </tr>\n",
       "    <tr>\n",
       "      <th>22587</th>\n",
       "      <td>426</td>\n",
       "      <td>8840</td>\n",
       "      <td>BE</td>\n",
       "      <td>NaN</td>\n",
       "      <td>31/05/2017 15:43:47</td>\n",
       "    </tr>\n",
       "    <tr>\n",
       "      <th>23016</th>\n",
       "      <td>432</td>\n",
       "      <td>1812</td>\n",
       "      <td>NL</td>\n",
       "      <td>NaN</td>\n",
       "      <td>20/02/2018 9:23:22</td>\n",
       "    </tr>\n",
       "    <tr>\n",
       "      <th>23017</th>\n",
       "      <td>435</td>\n",
       "      <td>2636</td>\n",
       "      <td>NL</td>\n",
       "      <td>NaN</td>\n",
       "      <td>20/02/2018 9:37:56</td>\n",
       "    </tr>\n",
       "    <tr>\n",
       "      <th>23113</th>\n",
       "      <td>431</td>\n",
       "      <td>7497</td>\n",
       "      <td>NL</td>\n",
       "      <td>NaN</td>\n",
       "      <td>14/02/2018 13:02:56</td>\n",
       "    </tr>\n",
       "    <tr>\n",
       "      <th>23114</th>\n",
       "      <td>433</td>\n",
       "      <td>7561</td>\n",
       "      <td>NL</td>\n",
       "      <td>NaN</td>\n",
       "      <td>20/02/2018 9:28:14</td>\n",
       "    </tr>\n",
       "    <tr>\n",
       "      <th>23115</th>\n",
       "      <td>434</td>\n",
       "      <td>9041</td>\n",
       "      <td>NL</td>\n",
       "      <td>NaN</td>\n",
       "      <td>20/02/2018 9:36:18</td>\n",
       "    </tr>\n",
       "  </tbody>\n",
       "</table>\n",
       "</div>"
      ],
      "text/plain": [
       "       customer_id zipcode country  closing_day        creation_date\n",
       "15034          410     NaN      BE    1111111.0  27/08/2010 13:26:31\n",
       "15035          401     NaN      BE    1111111.0  27/08/2010 13:23:09\n",
       "16020          409     NaN      BE    1111111.0  27/08/2010 13:25:58\n",
       "20789          429    5300      BE          NaN   9/11/2017 10:35:15\n",
       "22587          426    8840      BE          NaN  31/05/2017 15:43:47\n",
       "23016          432    1812      NL          NaN   20/02/2018 9:23:22\n",
       "23017          435    2636      NL          NaN   20/02/2018 9:37:56\n",
       "23113          431    7497      NL          NaN  14/02/2018 13:02:56\n",
       "23114          433    7561      NL          NaN   20/02/2018 9:28:14\n",
       "23115          434    9041      NL          NaN   20/02/2018 9:36:18"
      ]
     },
     "execution_count": 49,
     "metadata": {},
     "output_type": "execute_result"
    }
   ],
   "source": [
    "mask = df_customers3.isnull().any(axis=1)\n",
    "print(df_customers3[mask].shape)\n",
    "df_customers3[mask].head(n=20)"
   ]
  },
  {
   "cell_type": "code",
   "execution_count": 50,
   "metadata": {},
   "outputs": [
    {
     "name": "stdout",
     "output_type": "stream",
     "text": [
      "3 customers have no zipcode, these will have to be dropped\n",
      "7 records have no closing day, substitute with a reasonable value\n"
     ]
    }
   ],
   "source": [
    "print(\"3 customers have no zipcode, these will have to be dropped\")\n",
    "print(\"7 records have no closing day, substitute with a reasonable value\")"
   ]
  },
  {
   "cell_type": "code",
   "execution_count": 51,
   "metadata": {},
   "outputs": [
    {
     "data": {
      "text/plain": [
       "1111111.0    23108\n",
       "Name: closing_day, dtype: int64"
      ]
     },
     "execution_count": 51,
     "metadata": {},
     "output_type": "execute_result"
    }
   ],
   "source": [
    "df_customers3['closing_day'].value_counts()"
   ]
  },
  {
   "cell_type": "code",
   "execution_count": 52,
   "metadata": {},
   "outputs": [
    {
     "name": "stdout",
     "output_type": "stream",
     "text": [
      "closing day is always the same so we can also get rid of it\n"
     ]
    }
   ],
   "source": [
    "print(\"closing day is always the same so we can also get rid of it\")\n",
    "df_customers4 = df_customers3.drop('closing_day', axis=1)"
   ]
  },
  {
   "cell_type": "code",
   "execution_count": 58,
   "metadata": {},
   "outputs": [
    {
     "name": "stdout",
     "output_type": "stream",
     "text": [
      "40 countries in the customer set\n"
     ]
    },
    {
     "data": {
      "text/plain": [
       "<matplotlib.axes._subplots.AxesSubplot at 0x20aea356cf8>"
      ]
     },
     "execution_count": 58,
     "metadata": {},
     "output_type": "execute_result"
    },
    {
     "data": {
      "image/png": "[encoded data removed]",
      "text/plain": [
       "<Figure size 1440x360 with 1 Axes>"
      ]
     },
     "metadata": {
      "needs_background": "light"
     },
     "output_type": "display_data"
    }
   ],
   "source": [
    "#4 Different countries in dataset?\n",
    "\n",
    "vc = df_customers4['country'].value_counts()\n",
    "print(str(len(vc)) + \" countries in the customer set\")\n",
    "vc.plot(kind='bar', figsize=(20,5), logy=True, color='red', rot=45)"
   ]
  },
  {
   "cell_type": "code",
   "execution_count": 59,
   "metadata": {
    "scrolled": true
   },
   "outputs": [
    {
     "name": "stdout",
     "output_type": "stream",
     "text": [
      "8700\n"
     ]
    }
   ],
   "source": [
    "#5 clean the zipcode with regex \n",
    "zipFR = \"FR 59265\"\n",
    "zipNL = \"NL 4115 LN\"\n",
    "zipBE = '8700'\n",
    "\n",
    "match = re.search('(\\d+)', zipBE)\n",
    "if match is not None:\n",
    "    print(match.group(1))\n",
    "\n",
    "\n",
    "def cleanZip(z):\n",
    "    pattern = '(\\d+)'\n",
    "    match = re.search(pattern, str(z))\n",
    "    \n",
    "    if match is not None:\n",
    "        return int(match.group(1))\n",
    "    else:\n",
    "        return -1\n",
    "    \n",
    "    \n",
    "    \n",
    "df_customers4['zip_clean'] = df_customers4['zipcode'].apply(cleanZip)"
   ]
  },
  {
   "cell_type": "code",
   "execution_count": 60,
   "metadata": {},
   "outputs": [],
   "source": [
    "mask = df_customers4['zip_clean'] < 0\n",
    "\n",
    "df_customers4[mask]\n",
    "\n",
    "df_customers5 = pd.DataFrame(df_customers4[~mask]).drop('zipcode', axis=1)"
   ]
  },
  {
   "cell_type": "code",
   "execution_count": 61,
   "metadata": {},
   "outputs": [
    {
     "name": "stdout",
     "output_type": "stream",
     "text": [
      "(23115, 5)\n",
      "(23112, 4)\n"
     ]
    }
   ],
   "source": [
    "print(df_customers4.shape)\n",
    "print(df_customers5.shape)"
   ]
  },
  {
   "cell_type": "code",
   "execution_count": 62,
   "metadata": {},
   "outputs": [],
   "source": [
    "#casting to datetime and int"
   ]
  },
  {
   "cell_type": "code",
   "execution_count": 63,
   "metadata": {},
   "outputs": [
    {
     "data": {
      "text/plain": [
       "customer_id       int64\n",
       "country          object\n",
       "creation_date    object\n",
       "zip_clean         int64\n",
       "dtype: object"
      ]
     },
     "execution_count": 63,
     "metadata": {},
     "output_type": "execute_result"
    }
   ],
   "source": [
    "df_customers5.dtypes"
   ]
  },
  {
   "cell_type": "code",
   "execution_count": 64,
   "metadata": {},
   "outputs": [],
   "source": [
    "#later ontdekt: dayfirst is belangrijk!!! eerste datums zijn 7 mei 2009, zonder dayfirst is het 5 juli 2009!!\n",
    "\n",
    "df_customers5['creation_date'] = pd.to_datetime(df_customers5['creation_date'], dayfirst=True)"
   ]
  },
  {
   "cell_type": "code",
   "execution_count": 65,
   "metadata": {},
   "outputs": [
    {
     "data": {
      "text/html": [
       "<div>\n",
       "<style scoped>\n",
       "    .dataframe tbody tr th:only-of-type {\n",
       "        vertical-align: middle;\n",
       "    }\n",
       "\n",
       "    .dataframe tbody tr th {\n",
       "        vertical-align: top;\n",
       "    }\n",
       "\n",
       "    .dataframe thead th {\n",
       "        text-align: right;\n",
       "    }\n",
       "</style>\n",
       "<table border=\"1\" class=\"dataframe\">\n",
       "  <thead>\n",
       "    <tr style=\"text-align: right;\">\n",
       "      <th></th>\n",
       "      <th>customer_id</th>\n",
       "      <th>country</th>\n",
       "      <th>creation_date</th>\n",
       "      <th>zip_clean</th>\n",
       "    </tr>\n",
       "  </thead>\n",
       "  <tbody>\n",
       "    <tr>\n",
       "      <th>0</th>\n",
       "      <td>74236</td>\n",
       "      <td>BE</td>\n",
       "      <td>2009-05-07 01:09:21</td>\n",
       "      <td>8792</td>\n",
       "    </tr>\n",
       "    <tr>\n",
       "      <th>1</th>\n",
       "      <td>74246</td>\n",
       "      <td>BE</td>\n",
       "      <td>2009-05-07 01:09:21</td>\n",
       "      <td>8750</td>\n",
       "    </tr>\n",
       "    <tr>\n",
       "      <th>2</th>\n",
       "      <td>74247</td>\n",
       "      <td>BE</td>\n",
       "      <td>2009-05-07 01:09:22</td>\n",
       "      <td>8750</td>\n",
       "    </tr>\n",
       "  </tbody>\n",
       "</table>\n",
       "</div>"
      ],
      "text/plain": [
       "   customer_id country       creation_date  zip_clean\n",
       "0        74236      BE 2009-05-07 01:09:21       8792\n",
       "1        74246      BE 2009-05-07 01:09:21       8750\n",
       "2        74247      BE 2009-05-07 01:09:22       8750"
      ]
     },
     "execution_count": 65,
     "metadata": {},
     "output_type": "execute_result"
    }
   ],
   "source": [
    "df_customers5.head(n=3)"
   ]
  },
  {
   "cell_type": "code",
   "execution_count": 66,
   "metadata": {},
   "outputs": [],
   "source": [
    "df_customers5.to_csv('experimenting/cleaned/customers_cleaned.csv', header=True, index=False, sep='\\t', encoding='utf-8')"
   ]
  },
  {
   "cell_type": "code",
   "execution_count": 67,
   "metadata": {},
   "outputs": [
    {
     "name": "stdout",
     "output_type": "stream",
     "text": [
      "(23117, 6)\n",
      "(23112, 4)\n"
     ]
    }
   ],
   "source": [
    "print(df_customers.shape)\n",
    "print(df_customers5.shape)"
   ]
  },
  {
   "cell_type": "code",
   "execution_count": null,
   "metadata": {},
   "outputs": [],
   "source": []
  }
 ],
 "metadata": {
  "kernelspec": {
   "display_name": "Python 3",
   "language": "python",
   "name": "python3"
  },
  "language_info": {
   "codemirror_mode": {
    "name": "ipython",
    "version": 3
   },
   "file_extension": ".py",
   "mimetype": "text/x-python",
   "name": "python",
   "nbconvert_exporter": "python",
   "pygments_lexer": "ipython3",
   "version": "3.7.0"
  }
 },
 "nbformat": 4,
 "nbformat_minor": 2
}
